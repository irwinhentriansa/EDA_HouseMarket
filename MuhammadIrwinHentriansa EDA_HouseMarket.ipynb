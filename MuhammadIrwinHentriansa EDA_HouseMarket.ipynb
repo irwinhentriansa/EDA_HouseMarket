{
 "cells": [
  {
   "cell_type": "code",
   "execution_count": 1,
   "metadata": {
    "ExecuteTime": {
     "end_time": "2020-07-08T07:46:40.533079Z",
     "start_time": "2020-07-08T07:46:36.165470Z"
    }
   },
   "outputs": [],
   "source": [
    "import pandas as pd\n",
    "import numpy as np\n",
    "\n",
    "import matplotlib.pyplot as plt\n",
    "import seaborn as sns\n",
    "\n",
    "import statistics as st\n",
    "from scipy import stats\n",
    "from scipy.stats import norm"
   ]
  },
  {
   "cell_type": "markdown",
   "metadata": {},
   "source": [
    "#### Buatlah sebuah file notebook (EDA_HouseMarket.ipynb) dan ikuti panduan Exploratory Data Analysis berikut:"
   ]
  },
  {
   "cell_type": "markdown",
   "metadata": {},
   "source": [
    "1. Untuk feature/column Landsize, Distance, & Price, hitung dan beri penjelasan (insight) terkait:\n",
    "\n",
    "    - Titik Pusat Data (Central Tendency)\n",
    "    - Persebaran Data (Dispersion)\n",
    "    - Distribusi Data (Distribution)\n",
    "    \n",
    "    \n",
    "2. Carilah data outlier dan beri penjelasan (insight) pada feature/column Landsize & Distance ! Tambahkan plot untuk menampilkan - adanya data outlier!\n",
    "\n",
    "\n",
    "3. Tampilkan distribusi (sebaran data) dalam bentuk plot yang tepat, untuk feature/column Landsize & YearBuilt. Jelaskan insight apa yang Anda dapatkan di setiap plot tersebut!\n",
    "\n",
    "\n",
    "4. Tampilkan perkembangan rata-rata harga (price) rumah berdasarkan tahun pembangunan rumah (Year) menggunakan plot yang tepat! Jelaskan (insight) perkembangan rata-rata harga rumah dari plot yang Anda buat!\n",
    "\n",
    "\n",
    "5. Di antara Landsize, Distance, & Rooms, manakah feature/column yang memiliki nilai korelasi tertinggi pada feature/column Price? Jelaskan metode korelasi apa yang Anda gunakan, serta apa insight untuk perusahaan setelah mengetahui nilai korelasi tersebut?"
   ]
  },
  {
   "cell_type": "markdown",
   "metadata": {},
   "source": [
    "##### Some Key Details\n",
    "\n",
    "Suburb: Suburb\n",
    "\n",
    "Address: Address\n",
    "\n",
    "Rooms: Number of rooms\n",
    "\n",
    "Price: Price in Australian dollars\n",
    "\n",
    "Method:\n",
    "S - property sold;\n",
    "SP - property sold prior;\n",
    "PI - property passed in;\n",
    "PN - sold prior not disclosed;\n",
    "SN - sold not disclosed;\n",
    "NB - no bid;\n",
    "VB - vendor bid;\n",
    "W - withdrawn prior to auction;\n",
    "SA - sold after auction;\n",
    "SS - sold after auction price not disclosed.\n",
    "N/A - price or highest bid not available.\n",
    "\n",
    "Type:\n",
    "br - bedroom(s);\n",
    "h - house,cottage,villa, semi,terrace;\n",
    "u - unit, duplex;\n",
    "t - townhouse;\n",
    "dev site - development site;\n",
    "o res - other residential.\n",
    "\n",
    "SellerG: Real Estate Agent\n",
    "\n",
    "Date: Date sold\n",
    "\n",
    "Distance: Distance from CBD in Kilometres\n",
    "\n",
    "Regionname: General Region (West, North West, North, North east …etc)\n",
    "\n",
    "Propertycount: Number of properties that exist in the suburb.\n",
    "\n",
    "Bedroom2 : Scraped # of Bedrooms (from different source)\n",
    "\n",
    "Bathroom: Number of Bathrooms\n",
    "\n",
    "Car: Number of carspots\n",
    "\n",
    "Landsize: Land Size in Metres\n",
    "\n",
    "BuildingArea: Building Size in Metres\n",
    "\n",
    "YearBuilt: Year the house was built\n",
    "\n",
    "CouncilArea: Governing council for the area\n",
    "\n",
    "Lattitude: Self explanitory\n",
    "\n",
    "Longtitude: Self explanitory"
   ]
  },
  {
   "cell_type": "code",
   "execution_count": 2,
   "metadata": {
    "ExecuteTime": {
     "end_time": "2020-07-08T07:46:40.926847Z",
     "start_time": "2020-07-08T07:46:40.538071Z"
    },
    "scrolled": true
   },
   "outputs": [
    {
     "data": {
      "text/html": [
       "<div>\n",
       "<style scoped>\n",
       "    .dataframe tbody tr th:only-of-type {\n",
       "        vertical-align: middle;\n",
       "    }\n",
       "\n",
       "    .dataframe tbody tr th {\n",
       "        vertical-align: top;\n",
       "    }\n",
       "\n",
       "    .dataframe thead th {\n",
       "        text-align: right;\n",
       "    }\n",
       "</style>\n",
       "<table border=\"1\" class=\"dataframe\">\n",
       "  <thead>\n",
       "    <tr style=\"text-align: right;\">\n",
       "      <th></th>\n",
       "      <th>Suburb</th>\n",
       "      <th>Address</th>\n",
       "      <th>Rooms</th>\n",
       "      <th>Type</th>\n",
       "      <th>Price</th>\n",
       "      <th>Method</th>\n",
       "      <th>SellerG</th>\n",
       "      <th>Date</th>\n",
       "      <th>Distance</th>\n",
       "      <th>Postcode</th>\n",
       "      <th>...</th>\n",
       "      <th>Bathroom</th>\n",
       "      <th>Car</th>\n",
       "      <th>Landsize</th>\n",
       "      <th>BuildingArea</th>\n",
       "      <th>YearBuilt</th>\n",
       "      <th>CouncilArea</th>\n",
       "      <th>Lattitude</th>\n",
       "      <th>Longtitude</th>\n",
       "      <th>Regionname</th>\n",
       "      <th>Propertycount</th>\n",
       "    </tr>\n",
       "  </thead>\n",
       "  <tbody>\n",
       "    <tr>\n",
       "      <th>0</th>\n",
       "      <td>Abbotsford</td>\n",
       "      <td>85 Turner St</td>\n",
       "      <td>2</td>\n",
       "      <td>h</td>\n",
       "      <td>1480000.0</td>\n",
       "      <td>S</td>\n",
       "      <td>Biggin</td>\n",
       "      <td>3/12/2016</td>\n",
       "      <td>2.5</td>\n",
       "      <td>3067.0</td>\n",
       "      <td>...</td>\n",
       "      <td>1.0</td>\n",
       "      <td>1.0</td>\n",
       "      <td>202.0</td>\n",
       "      <td>NaN</td>\n",
       "      <td>NaN</td>\n",
       "      <td>Yarra</td>\n",
       "      <td>-37.7996</td>\n",
       "      <td>144.9984</td>\n",
       "      <td>Northern Metropolitan</td>\n",
       "      <td>4019.0</td>\n",
       "    </tr>\n",
       "    <tr>\n",
       "      <th>1</th>\n",
       "      <td>Abbotsford</td>\n",
       "      <td>25 Bloomburg St</td>\n",
       "      <td>2</td>\n",
       "      <td>h</td>\n",
       "      <td>1035000.0</td>\n",
       "      <td>S</td>\n",
       "      <td>Biggin</td>\n",
       "      <td>4/02/2016</td>\n",
       "      <td>2.5</td>\n",
       "      <td>3067.0</td>\n",
       "      <td>...</td>\n",
       "      <td>1.0</td>\n",
       "      <td>0.0</td>\n",
       "      <td>156.0</td>\n",
       "      <td>79.0</td>\n",
       "      <td>1900.0</td>\n",
       "      <td>Yarra</td>\n",
       "      <td>-37.8079</td>\n",
       "      <td>144.9934</td>\n",
       "      <td>Northern Metropolitan</td>\n",
       "      <td>4019.0</td>\n",
       "    </tr>\n",
       "    <tr>\n",
       "      <th>2</th>\n",
       "      <td>Abbotsford</td>\n",
       "      <td>5 Charles St</td>\n",
       "      <td>3</td>\n",
       "      <td>h</td>\n",
       "      <td>1465000.0</td>\n",
       "      <td>SP</td>\n",
       "      <td>Biggin</td>\n",
       "      <td>4/03/2017</td>\n",
       "      <td>2.5</td>\n",
       "      <td>3067.0</td>\n",
       "      <td>...</td>\n",
       "      <td>2.0</td>\n",
       "      <td>0.0</td>\n",
       "      <td>134.0</td>\n",
       "      <td>150.0</td>\n",
       "      <td>1900.0</td>\n",
       "      <td>Yarra</td>\n",
       "      <td>-37.8093</td>\n",
       "      <td>144.9944</td>\n",
       "      <td>Northern Metropolitan</td>\n",
       "      <td>4019.0</td>\n",
       "    </tr>\n",
       "    <tr>\n",
       "      <th>3</th>\n",
       "      <td>Abbotsford</td>\n",
       "      <td>40 Federation La</td>\n",
       "      <td>3</td>\n",
       "      <td>h</td>\n",
       "      <td>850000.0</td>\n",
       "      <td>PI</td>\n",
       "      <td>Biggin</td>\n",
       "      <td>4/03/2017</td>\n",
       "      <td>2.5</td>\n",
       "      <td>3067.0</td>\n",
       "      <td>...</td>\n",
       "      <td>2.0</td>\n",
       "      <td>1.0</td>\n",
       "      <td>94.0</td>\n",
       "      <td>NaN</td>\n",
       "      <td>NaN</td>\n",
       "      <td>Yarra</td>\n",
       "      <td>-37.7969</td>\n",
       "      <td>144.9969</td>\n",
       "      <td>Northern Metropolitan</td>\n",
       "      <td>4019.0</td>\n",
       "    </tr>\n",
       "    <tr>\n",
       "      <th>4</th>\n",
       "      <td>Abbotsford</td>\n",
       "      <td>55a Park St</td>\n",
       "      <td>4</td>\n",
       "      <td>h</td>\n",
       "      <td>1600000.0</td>\n",
       "      <td>VB</td>\n",
       "      <td>Nelson</td>\n",
       "      <td>4/06/2016</td>\n",
       "      <td>2.5</td>\n",
       "      <td>3067.0</td>\n",
       "      <td>...</td>\n",
       "      <td>1.0</td>\n",
       "      <td>2.0</td>\n",
       "      <td>120.0</td>\n",
       "      <td>142.0</td>\n",
       "      <td>2014.0</td>\n",
       "      <td>Yarra</td>\n",
       "      <td>-37.8072</td>\n",
       "      <td>144.9941</td>\n",
       "      <td>Northern Metropolitan</td>\n",
       "      <td>4019.0</td>\n",
       "    </tr>\n",
       "  </tbody>\n",
       "</table>\n",
       "<p>5 rows × 21 columns</p>\n",
       "</div>"
      ],
      "text/plain": [
       "       Suburb           Address  Rooms Type      Price Method SellerG  \\\n",
       "0  Abbotsford      85 Turner St      2    h  1480000.0      S  Biggin   \n",
       "1  Abbotsford   25 Bloomburg St      2    h  1035000.0      S  Biggin   \n",
       "2  Abbotsford      5 Charles St      3    h  1465000.0     SP  Biggin   \n",
       "3  Abbotsford  40 Federation La      3    h   850000.0     PI  Biggin   \n",
       "4  Abbotsford       55a Park St      4    h  1600000.0     VB  Nelson   \n",
       "\n",
       "        Date  Distance  Postcode  ...  Bathroom  Car  Landsize  BuildingArea  \\\n",
       "0  3/12/2016       2.5    3067.0  ...       1.0  1.0     202.0           NaN   \n",
       "1  4/02/2016       2.5    3067.0  ...       1.0  0.0     156.0          79.0   \n",
       "2  4/03/2017       2.5    3067.0  ...       2.0  0.0     134.0         150.0   \n",
       "3  4/03/2017       2.5    3067.0  ...       2.0  1.0      94.0           NaN   \n",
       "4  4/06/2016       2.5    3067.0  ...       1.0  2.0     120.0         142.0   \n",
       "\n",
       "   YearBuilt  CouncilArea Lattitude  Longtitude             Regionname  \\\n",
       "0        NaN        Yarra  -37.7996    144.9984  Northern Metropolitan   \n",
       "1     1900.0        Yarra  -37.8079    144.9934  Northern Metropolitan   \n",
       "2     1900.0        Yarra  -37.8093    144.9944  Northern Metropolitan   \n",
       "3        NaN        Yarra  -37.7969    144.9969  Northern Metropolitan   \n",
       "4     2014.0        Yarra  -37.8072    144.9941  Northern Metropolitan   \n",
       "\n",
       "  Propertycount  \n",
       "0        4019.0  \n",
       "1        4019.0  \n",
       "2        4019.0  \n",
       "3        4019.0  \n",
       "4        4019.0  \n",
       "\n",
       "[5 rows x 21 columns]"
      ]
     },
     "execution_count": 2,
     "metadata": {},
     "output_type": "execute_result"
    }
   ],
   "source": [
    "df = pd.read_csv('melb_data.csv')\n",
    "df.head()"
   ]
  },
  {
   "cell_type": "markdown",
   "metadata": {},
   "source": [
    "## 1. Untuk feature/column Landsize, Distance, & Price, hitung dan beri penjelasan (insight) terkait:\n",
    "\n",
    "- Titik Pusat Data (Central Tendency)\n",
    "- Persebaran Data (Dispersion)\n",
    "- Distribusi Data (Distribution)"
   ]
  },
  {
   "cell_type": "code",
   "execution_count": 3,
   "metadata": {
    "ExecuteTime": {
     "end_time": "2020-07-08T07:46:40.983337Z",
     "start_time": "2020-07-08T07:46:40.935842Z"
    },
    "scrolled": false
   },
   "outputs": [],
   "source": [
    "df_stats = df[['Landsize','Distance','Price']].describe().transpose()"
   ]
  },
  {
   "cell_type": "code",
   "execution_count": 4,
   "metadata": {
    "ExecuteTime": {
     "end_time": "2020-07-08T07:46:41.257173Z",
     "start_time": "2020-07-08T07:46:40.991325Z"
    }
   },
   "outputs": [],
   "source": [
    "df_stats['Range'] = df_stats['max'] - df_stats['min']\n",
    "df_stats['IQR'] = df_stats['75%'] - df_stats['25%']\n",
    "df_stats['Variance'] = df[['Landsize','Distance','Price']].var().tolist()"
   ]
  },
  {
   "cell_type": "code",
   "execution_count": 5,
   "metadata": {
    "ExecuteTime": {
     "end_time": "2020-07-08T07:46:41.413122Z",
     "start_time": "2020-07-08T07:46:41.262169Z"
    }
   },
   "outputs": [
    {
     "data": {
      "text/html": [
       "<div>\n",
       "<style scoped>\n",
       "    .dataframe tbody tr th:only-of-type {\n",
       "        vertical-align: middle;\n",
       "    }\n",
       "\n",
       "    .dataframe tbody tr th {\n",
       "        vertical-align: top;\n",
       "    }\n",
       "\n",
       "    .dataframe thead th {\n",
       "        text-align: right;\n",
       "    }\n",
       "</style>\n",
       "<table border=\"1\" class=\"dataframe\">\n",
       "  <thead>\n",
       "    <tr style=\"text-align: right;\">\n",
       "      <th></th>\n",
       "      <th>count</th>\n",
       "      <th>mean</th>\n",
       "      <th>std</th>\n",
       "      <th>min</th>\n",
       "      <th>25%</th>\n",
       "      <th>50%</th>\n",
       "      <th>75%</th>\n",
       "      <th>max</th>\n",
       "      <th>Range</th>\n",
       "      <th>IQR</th>\n",
       "      <th>Variance</th>\n",
       "    </tr>\n",
       "  </thead>\n",
       "  <tbody>\n",
       "    <tr>\n",
       "      <th>Landsize</th>\n",
       "      <td>13580.0</td>\n",
       "      <td>5.584161e+02</td>\n",
       "      <td>3990.669241</td>\n",
       "      <td>0.0</td>\n",
       "      <td>177.0</td>\n",
       "      <td>440.0</td>\n",
       "      <td>651.0</td>\n",
       "      <td>433014.0</td>\n",
       "      <td>433014.0</td>\n",
       "      <td>474.0</td>\n",
       "      <td>1.592544e+07</td>\n",
       "    </tr>\n",
       "    <tr>\n",
       "      <th>Distance</th>\n",
       "      <td>13580.0</td>\n",
       "      <td>1.013778e+01</td>\n",
       "      <td>5.868725</td>\n",
       "      <td>0.0</td>\n",
       "      <td>6.1</td>\n",
       "      <td>9.2</td>\n",
       "      <td>13.0</td>\n",
       "      <td>48.1</td>\n",
       "      <td>48.1</td>\n",
       "      <td>6.9</td>\n",
       "      <td>3.444193e+01</td>\n",
       "    </tr>\n",
       "    <tr>\n",
       "      <th>Price</th>\n",
       "      <td>13580.0</td>\n",
       "      <td>1.075684e+06</td>\n",
       "      <td>639310.724296</td>\n",
       "      <td>85000.0</td>\n",
       "      <td>650000.0</td>\n",
       "      <td>903000.0</td>\n",
       "      <td>1330000.0</td>\n",
       "      <td>9000000.0</td>\n",
       "      <td>8915000.0</td>\n",
       "      <td>680000.0</td>\n",
       "      <td>4.087182e+11</td>\n",
       "    </tr>\n",
       "  </tbody>\n",
       "</table>\n",
       "</div>"
      ],
      "text/plain": [
       "            count          mean            std      min       25%       50%  \\\n",
       "Landsize  13580.0  5.584161e+02    3990.669241      0.0     177.0     440.0   \n",
       "Distance  13580.0  1.013778e+01       5.868725      0.0       6.1       9.2   \n",
       "Price     13580.0  1.075684e+06  639310.724296  85000.0  650000.0  903000.0   \n",
       "\n",
       "                75%        max      Range       IQR      Variance  \n",
       "Landsize      651.0   433014.0   433014.0     474.0  1.592544e+07  \n",
       "Distance       13.0       48.1       48.1       6.9  3.444193e+01  \n",
       "Price     1330000.0  9000000.0  8915000.0  680000.0  4.087182e+11  "
      ]
     },
     "execution_count": 5,
     "metadata": {},
     "output_type": "execute_result"
    }
   ],
   "source": [
    "df_stats"
   ]
  },
  {
   "cell_type": "code",
   "execution_count": 6,
   "metadata": {
    "ExecuteTime": {
     "end_time": "2020-07-08T07:46:41.576028Z",
     "start_time": "2020-07-08T07:46:41.419117Z"
    }
   },
   "outputs": [
    {
     "data": {
      "text/html": [
       "<div>\n",
       "<style scoped>\n",
       "    .dataframe tbody tr th:only-of-type {\n",
       "        vertical-align: middle;\n",
       "    }\n",
       "\n",
       "    .dataframe tbody tr th {\n",
       "        vertical-align: top;\n",
       "    }\n",
       "\n",
       "    .dataframe thead th {\n",
       "        text-align: right;\n",
       "    }\n",
       "</style>\n",
       "<table border=\"1\" class=\"dataframe\">\n",
       "  <thead>\n",
       "    <tr style=\"text-align: right;\">\n",
       "      <th></th>\n",
       "      <th>Landsize</th>\n",
       "      <th>Distance</th>\n",
       "      <th>Price</th>\n",
       "    </tr>\n",
       "  </thead>\n",
       "  <tbody>\n",
       "    <tr>\n",
       "      <th>0</th>\n",
       "      <td>0.0</td>\n",
       "      <td>11.2</td>\n",
       "      <td>1100000.0</td>\n",
       "    </tr>\n",
       "  </tbody>\n",
       "</table>\n",
       "</div>"
      ],
      "text/plain": [
       "   Landsize  Distance      Price\n",
       "0       0.0      11.2  1100000.0"
      ]
     },
     "execution_count": 6,
     "metadata": {},
     "output_type": "execute_result"
    }
   ],
   "source": [
    "df_mode = df[['Landsize','Distance','Price']].mode()\n",
    "df_mode"
   ]
  },
  {
   "cell_type": "code",
   "execution_count": 7,
   "metadata": {
    "ExecuteTime": {
     "end_time": "2020-07-08T07:46:41.926866Z",
     "start_time": "2020-07-08T07:46:41.582041Z"
    }
   },
   "outputs": [
    {
     "data": {
      "text/plain": [
       "408718202199.89923"
      ]
     },
     "execution_count": 7,
     "metadata": {},
     "output_type": "execute_result"
    }
   ],
   "source": [
    "df['Price'].var()"
   ]
  },
  {
   "cell_type": "markdown",
   "metadata": {},
   "source": [
    "#### Describing Descriptive Statistics"
   ]
  },
  {
   "cell_type": "markdown",
   "metadata": {},
   "source": [
    "<span style='color:Indianred'>**A. Central Tendency**</span>\n",
    "\n",
    "- <span style='color:#0066b2'>Mean : merupakan nilai rata-rata setiap, jadi setiap seluruh values pada kolom / fetaures dijumlah kemudian dibagi total jumlah data</span>\n",
    "\n",
    "- <span style='color:#0066b2'>Median : merupakan nilai tengah dari data, dengan cara di sortir dari yang terkecil sampai tertinggi dan mengambil nilai dengan posisi nilai berada di tengah-tengah (Posisi 50% dari data).</span>\n",
    "\n",
    "- <span style='color:#0066b2'>Modus : merupakan values yang paling sering keluar (frekuensi terbanyak) dari semua values.</span>\n",
    "\n",
    "#### From DataSet per Features\n",
    "\n",
    "<span style='color:Indianred'>**1. Landsize - [Features / Columns]**</span>\n",
    "\n",
    "- <span style='color:#0066b2'>**Mean : 558.4161266568483**</span>\n",
    "\n",
    "Ini mempunyai arti, bahwa nilai 558.4161266568483 merupakan nilai rata-rata dari kolom Landsize yang jumlah datanya 13580 data\n",
    "\n",
    "Sehingga bahwa rata-rata ukuran/luas/*landsize* rumah pada Kota Melbourne berkisar nilai tersebut\n",
    "\n",
    "- <span style='color:#0066b2'>**Median : 440.0**</span>\n",
    "\n",
    "Ini mempunyai arti bahwa nilai 440.0 berada pada titik tengah (Posisi 50 % dari data) sebaran data yang berjumlah 156 data\n",
    "\n",
    "- <span style='color:#0066b2'>**Modus : 0**</span>\n",
    "\n",
    "Ini mempunyai arti bahwa nilai 0 merupakan nilai dengan frekuensi terbanyak. Kemungkinan ini terjadi karena data tersebut memiliki nilai null/*NaN* dengan frekuensi yang banyak\n",
    "\n",
    "- <span style='color:Indianred'>**Distance in KM to CBD [Features / Columns]**</span>\n",
    "\n",
    "<span style='color:#0066b2'>**Mean : 10.13777614138439**</span>\n",
    "\n",
    "Ini mempunyai arti, bahwa nilai 10.13777614138439 merupakan nilai rata-rata dari kolom Distance yang jumlah datanya 13580 data\n",
    "\n",
    "Sehingga bahwa rata-rata *Distance*/Jarak rumah pada Kota Melbourne dengan ***CBD(Central Busniness District)*** bernilai 10.1377 kilometer\n",
    "\n",
    "<span style='color:#0066b2'>**Median : 9.2**</span>\n",
    "\n",
    "Ini mempunyai arti bahwa nilai 9.2 Km berada pada titik tengah (Posisi 50 % dari data) sebaran data yang berjumlah 156 data\n",
    "\n",
    "<span style='color:#0066b2'>**Modus : 11.2**</span>\n",
    "\n",
    "Ini mempunyai arti nilai 11.2 Km merupakan nilai dengan frekuensi/kemunculan angka tersebut banyak terhadap jarak dari ***CBD(Central Busniness District)***\n",
    "\n",
    "- <span style='color:Indianred'>**Price in Australian Dollars- [Features / Columns]**</span>\n",
    "\n",
    "<span style='color:#0066b2'>**Mean : 1075684.079455081**</span>\n",
    "\n",
    "Ini mempunyai arti, bahwa nilai 1075684.079455081 merupakan nilai rata-rata dari kolom Distance yang jumlah datanya 13580 data\n",
    "\n",
    "Sehingga bahwa rata-rata Harga rumah pada Kota Melbourne bernilai 1075684.079455081 *in Australian Dollar*\n",
    "\n",
    "<span style='color:#0066b2'>**Median : 903000**</span>\n",
    "\n",
    "Ini mempunyai arti bahwa nilai 903000 Dolar AUS berada pada titik tengah (Posisi 50 % dari data) sebaran data yang berjumlah 156 data\n",
    "\n",
    "<span style='color:#0066b2'>**Modus : 1100000**</span>\n",
    "\n",
    "Ini mempunyai arti nilai 1100000 Dolar merupakan nilai dengan frekuensi/kemunculan angka tersebut banyak pada sample yang ada."
   ]
  },
  {
   "cell_type": "markdown",
   "metadata": {},
   "source": [
    "<span style='color:Indianred'>**B. Dispersion**</span>\n",
    "\n",
    "<span style='color:DarkOrange'>**Range, Q1, Q3, & IQR**</span>\n",
    "\n",
    "\n",
    "- <span style='color:#0066b2'>Range : Selisih antara data dengan nilai yang terbesar dengan data denga nilai yang terkecil </span>\n",
    "\n",
    "\n",
    "- <span style='color:#0066b2'>Q1 : Merupakan nilai tengah dari 25% jumlah data, dimana nilai tersebut dibawah nilai Median (50%)</span>\n",
    "\n",
    "\n",
    "- <span style='color:#0066b2'>Q3 : Merupakan nilai tengah dari 75% jumlah data, dimana nilai tersebut diatas nilai Median (50%)</span>\n",
    "\n",
    "\n",
    "- <span style='color:#0066b2'>IQR : Merupakan jumlah nilai dimana 50% dari jumlah data</span>\n",
    "\n",
    "<span style='color:DarkOrange'>**Standard Deviasi & Variance**</span>\n",
    "\n",
    "- <span style='color:#0066b2'>Standard Deviasi : Merupakan seberapa besar nilai sebaran pada data. Nilai tersebut mengukur berapa jauh nilai mean dari dataset. Biasanya standar deviasi dimanfaatkan untuk mengetahui apakah sampel data yang diambil mewakili seluruh populasi. Hal ini menunjukkan berapa banyak, rata-rata, masing-masing nilai dalam distribusi menyimpang dari mean, atau pusat, distribusi</span>\n",
    "\n",
    "- <span style='color:#0066b2'>Variance : Nilai Keragaman dari suatu data</span>\n",
    "\n",
    "#### From DataSet per Features\n",
    "\n",
    "<span style='color:Indianred'>**1. Landsize - [Features / Columns]**</span>\n",
    "\n",
    "<span style='color:#0066b2'>**Standard Deviasi : 3990.669241**</span>\n",
    "\n",
    "Nilai tersebut mengukur berapa jauh nilai mean dari dataset. Hal ini menunjukkan berapa banyak, rata-rata, masing-masing nilai dalam distribusi menyimpang dari mean, atau pusat, distribusi\n",
    "\n",
    "<span style='color:#0066b2'>**Variance : 15925440.991933735**</span>\n",
    "\n",
    "Nilai tersebut seberapa besar tingkat variatif nilai/values datanya\n",
    "\n",
    "<span style='color:#0066b2'>**Range : 433014.0**</span>\n",
    "\n",
    "Nilai tersebut menunjukan, jarak/range nilai terbesar dengan nilai terkecil. Berada Pada 433014 meter\n",
    "\n",
    "<span style='color:#0066b2'>**Interquarile Range (IQR): 474.0**</span>\n",
    "\n",
    "Menunjukan nilai dimana 50% jumlah dari data.\n",
    "\n",
    "<span style='color:Indianred'>**2. Distance - [Features / Columns]**</span>\n",
    "\n",
    "<span style='color:#0066b2'>**Standard Deviasi : 5.868725**</span>\n",
    "\n",
    "Nilai tersebut mengukur berapa jauh nilai mean dari dataset. Hal ini menunjukkan berapa banyak, rata-rata, masing-masing nilai dalam distribusi menyimpang dari mean, atau pusat, distribusi\n",
    "\n",
    "<span style='color:#0066b2'>**Variance : 34.4419**</span>\n",
    "\n",
    "Nilai tersebut seberapa besar tingkat variatif nilai/values datanya\n",
    "\n",
    "<span style='color:#0066b2'>**Range : 48.1**</span>\n",
    "\n",
    "Nilai tersebut menunjukan, jarak/range nilai terbesar dengan nilai terkecil. Berada Pada 433014 meter\n",
    "\n",
    "<span style='color:#0066b2'>**Interquarile Range (IQR): 6.9**</span>\n",
    "\n",
    "Menunjukan nilai dimana 50% jumlah dari data.\n",
    "\n",
    "<span style='color:Indianred'>**3. Price - [Features / Columns]**</span>\n",
    "\n",
    "<span style='color:#0066b2'>**Standard Deviasi : 639310.724296 Dolar**</span>\n",
    "\n",
    "Nilai tersebut mengukur berapa jauh nilai mean dari dataset. Hal ini menunjukkan berapa banyak, rata-rata, masing-masing nilai dalam distribusi menyimpang dari mean, atau pusat, distribusi.\n",
    "\n",
    "<span style='color:#0066b2'>**Variance : 34.4419**</span>\n",
    "\n",
    "Nilai tersebut seberapa besar tingkat variatif nilai/values datanya\n",
    "\n",
    "<span style='color:#0066b2'>**Range : 8915000**</span>\n",
    "\n",
    "Nilai tersebut menunjukan, jarak/range nilai terbesar dengan nilai terkecil. Berada Pada 433014 meter\n",
    "\n",
    "<span style='color:#0066b2'>**Interquarile Range (IQR): 680000**</span>\n",
    "\n",
    "Menunjukan nilai dimana 50% jumlah dari data."
   ]
  },
  {
   "cell_type": "markdown",
   "metadata": {},
   "source": [
    "<span style='color:Indianred'>**C. Distribusi Data**</span>"
   ]
  },
  {
   "cell_type": "markdown",
   "metadata": {},
   "source": [
    "<span style='color:DarkOrange'>**1. Skewness Test**</span>"
   ]
  },
  {
   "cell_type": "markdown",
   "metadata": {},
   "source": [
    "- If skewness is less than -1 or greater than 1, the distribution is highly skewed.\n",
    "\n",
    "- If skewness is between -1 and -0.5 or between 0.5 and 1, the distribution is moderately skewed.\n",
    "\n",
    "- If skewness is between -0.5 and 0.5, the distribution is approximately symmetric."
   ]
  },
  {
   "cell_type": "code",
   "execution_count": 8,
   "metadata": {
    "ExecuteTime": {
     "end_time": "2020-07-08T07:46:42.077777Z",
     "start_time": "2020-07-08T07:46:41.937858Z"
    }
   },
   "outputs": [
    {
     "data": {
      "text/plain": [
       "212.046122018087"
      ]
     },
     "execution_count": 8,
     "metadata": {},
     "output_type": "execute_result"
    }
   ],
   "source": [
    "teststat, p = stats.skewtest(df['Landsize'])\n",
    "teststat"
   ]
  },
  {
   "cell_type": "code",
   "execution_count": 9,
   "metadata": {
    "ExecuteTime": {
     "end_time": "2020-07-08T07:46:42.270667Z",
     "start_time": "2020-07-08T07:46:42.084773Z"
    }
   },
   "outputs": [
    {
     "name": "stdout",
     "output_type": "stream",
     "text": [
      "The Distribution of Landsize is Highly Skewed.\n",
      "The Distribution of Distance is Highly Skewed.\n",
      "The Distribution of Price is Highly Skewed.\n"
     ]
    }
   ],
   "source": [
    "features = ['Landsize', 'Distance', 'Price']\n",
    "\n",
    "for i in features:\n",
    "    teststat, p = stats.skewtest(df[i])\n",
    "    if -0.5 < teststat < 0.5:\n",
    "        print(f'The Distribution of {i} is Approximately Symmetric')\n",
    "    elif -1 < teststat < -0.5 or 0.5 > teststat > 1:\n",
    "        print(f'The Distribution of {i} is Moderately Skewed.')\n",
    "    elif teststat < -1 or teststat > 1:\n",
    "        print(f'The Distribution of {i} is Highly Skewed.')"
   ]
  },
  {
   "cell_type": "markdown",
   "metadata": {
    "ExecuteTime": {
     "end_time": "2020-07-08T05:51:37.502392Z",
     "start_time": "2020-07-08T05:51:37.497395Z"
    }
   },
   "source": [
    "<span style='color:DarkOrange'>**2. Kurtosis Test**</span>"
   ]
  },
  {
   "cell_type": "code",
   "execution_count": 10,
   "metadata": {
    "ExecuteTime": {
     "end_time": "2020-07-08T07:46:42.401591Z",
     "start_time": "2020-07-08T07:46:42.275664Z"
    }
   },
   "outputs": [
    {
     "name": "stdout",
     "output_type": "stream",
     "text": [
      "The Distribution of Landsize is Leptokurtik/Diatas Kurva Normal\n",
      "The Distribution of Distance is Leptokurtik/Diatas Kurva Normal\n",
      "The Distribution of Price is Leptokurtik/Diatas Kurva Normal\n"
     ]
    }
   ],
   "source": [
    "features = ['Landsize', 'Distance', 'Price']\n",
    "\n",
    "for i in features:\n",
    "    teststat, p = stats.kurtosistest(df[i])\n",
    "    if teststat > 3:\n",
    "        print(f'The Distribution of {i} is Leptokurtik/Diatas Kurva Normal')\n",
    "    elif teststat < 3:\n",
    "        print(f'The Distribution of {i} is Platikurtik/Dibawah Kurva Normal.')\n",
    "    elif teststat == 3:\n",
    "        print(f'The Distribution of {i} is Mesokurtik/Kurva Normal.')"
   ]
  },
  {
   "cell_type": "markdown",
   "metadata": {},
   "source": [
    "<span style='color:DarkOrange'>**3. Normal Test**</span>"
   ]
  },
  {
   "cell_type": "code",
   "execution_count": 11,
   "metadata": {
    "ExecuteTime": {
     "end_time": "2020-07-08T07:46:42.569007Z",
     "start_time": "2020-07-08T07:46:42.405589Z"
    }
   },
   "outputs": [
    {
     "name": "stdout",
     "output_type": "stream",
     "text": [
      "Kolom Landsize Tidak Terdistribusi Normal\n",
      "Kolom Distance Tidak Terdistribusi Normal\n",
      "Kolom Price Tidak Terdistribusi Normal\n"
     ]
    }
   ],
   "source": [
    "# Menggunakan Normal Test\n",
    "alpha = 0.001\n",
    "\n",
    "features = ['Landsize', 'Distance', 'Price']\n",
    "\n",
    "for i in ['Landsize', 'Distance', 'Price']:\n",
    "    teststat1, p = stats.normaltest(df[i])\n",
    "    if p < alpha:  # null hypothesis: x comes from a normal distribution\n",
    "        print(f'Kolom {i} Tidak Terdistribusi Normal')\n",
    "    else:\n",
    "        print(f'Kolom {i} Terdistribusi Normal')"
   ]
  },
  {
   "cell_type": "markdown",
   "metadata": {},
   "source": [
    "## 2. Carilah data outlier dan beri penjelasan (insight) pada feature/column Landsize & Distance ! Tambahkan plot untuk menampilkan adanya data outlier!"
   ]
  },
  {
   "cell_type": "code",
   "execution_count": 12,
   "metadata": {
    "ExecuteTime": {
     "end_time": "2020-07-08T07:46:42.787331Z",
     "start_time": "2020-07-08T07:46:42.573004Z"
    }
   },
   "outputs": [
    {
     "data": {
      "text/html": [
       "<div>\n",
       "<style scoped>\n",
       "    .dataframe tbody tr th:only-of-type {\n",
       "        vertical-align: middle;\n",
       "    }\n",
       "\n",
       "    .dataframe tbody tr th {\n",
       "        vertical-align: top;\n",
       "    }\n",
       "\n",
       "    .dataframe thead th {\n",
       "        text-align: right;\n",
       "    }\n",
       "</style>\n",
       "<table border=\"1\" class=\"dataframe\">\n",
       "  <thead>\n",
       "    <tr style=\"text-align: right;\">\n",
       "      <th></th>\n",
       "      <th>count</th>\n",
       "      <th>mean</th>\n",
       "      <th>std</th>\n",
       "      <th>min</th>\n",
       "      <th>25%</th>\n",
       "      <th>50%</th>\n",
       "      <th>75%</th>\n",
       "      <th>max</th>\n",
       "      <th>Range</th>\n",
       "      <th>IQR</th>\n",
       "      <th>Variance</th>\n",
       "    </tr>\n",
       "  </thead>\n",
       "  <tbody>\n",
       "    <tr>\n",
       "      <th>Landsize</th>\n",
       "      <td>13580.0</td>\n",
       "      <td>5.584161e+02</td>\n",
       "      <td>3990.669241</td>\n",
       "      <td>0.0</td>\n",
       "      <td>177.0</td>\n",
       "      <td>440.0</td>\n",
       "      <td>651.0</td>\n",
       "      <td>433014.0</td>\n",
       "      <td>433014.0</td>\n",
       "      <td>474.0</td>\n",
       "      <td>1.592544e+07</td>\n",
       "    </tr>\n",
       "    <tr>\n",
       "      <th>Distance</th>\n",
       "      <td>13580.0</td>\n",
       "      <td>1.013778e+01</td>\n",
       "      <td>5.868725</td>\n",
       "      <td>0.0</td>\n",
       "      <td>6.1</td>\n",
       "      <td>9.2</td>\n",
       "      <td>13.0</td>\n",
       "      <td>48.1</td>\n",
       "      <td>48.1</td>\n",
       "      <td>6.9</td>\n",
       "      <td>3.444193e+01</td>\n",
       "    </tr>\n",
       "    <tr>\n",
       "      <th>Price</th>\n",
       "      <td>13580.0</td>\n",
       "      <td>1.075684e+06</td>\n",
       "      <td>639310.724296</td>\n",
       "      <td>85000.0</td>\n",
       "      <td>650000.0</td>\n",
       "      <td>903000.0</td>\n",
       "      <td>1330000.0</td>\n",
       "      <td>9000000.0</td>\n",
       "      <td>8915000.0</td>\n",
       "      <td>680000.0</td>\n",
       "      <td>4.087182e+11</td>\n",
       "    </tr>\n",
       "  </tbody>\n",
       "</table>\n",
       "</div>"
      ],
      "text/plain": [
       "            count          mean            std      min       25%       50%  \\\n",
       "Landsize  13580.0  5.584161e+02    3990.669241      0.0     177.0     440.0   \n",
       "Distance  13580.0  1.013778e+01       5.868725      0.0       6.1       9.2   \n",
       "Price     13580.0  1.075684e+06  639310.724296  85000.0  650000.0  903000.0   \n",
       "\n",
       "                75%        max      Range       IQR      Variance  \n",
       "Landsize      651.0   433014.0   433014.0     474.0  1.592544e+07  \n",
       "Distance       13.0       48.1       48.1       6.9  3.444193e+01  \n",
       "Price     1330000.0  9000000.0  8915000.0  680000.0  4.087182e+11  "
      ]
     },
     "metadata": {},
     "output_type": "display_data"
    }
   ],
   "source": [
    "display(df_stats)"
   ]
  },
  {
   "cell_type": "markdown",
   "metadata": {},
   "source": [
    "<span style='color:Indianred'>**MENGGUNAKAN IQR**</span>"
   ]
  },
  {
   "cell_type": "code",
   "execution_count": 13,
   "metadata": {
    "ExecuteTime": {
     "end_time": "2020-07-08T07:46:47.170947Z",
     "start_time": "2020-07-08T07:46:42.791329Z"
    }
   },
   "outputs": [],
   "source": [
    "iqr = df_stats['75%'] - df_stats['25%']\n",
    "batas_bawah = df_stats['25%'] - (1.5*iqr)\n",
    "batas_atas = df_stats['75%'] + (1.5*iqr)\n",
    "\n",
    "outlier_landsize = [i for i in df['Landsize'] if i < batas_bawah['Landsize'].item() or i > batas_atas['Landsize'].item()]\n",
    "\n",
    "outlier_distance = [i for i in df['Distance'] if i < batas_bawah['Distance'].item() or \n",
    "               i > batas_atas['Distance'].item()]\n",
    "\n",
    "outlier_price = [i for i in df['Price'] if i < batas_bawah['Price'].item() or \n",
    "               i > batas_atas['Price'].item()]"
   ]
  },
  {
   "cell_type": "code",
   "execution_count": 14,
   "metadata": {
    "ExecuteTime": {
     "end_time": "2020-07-08T07:46:47.185939Z",
     "start_time": "2020-07-08T07:46:47.173952Z"
    }
   },
   "outputs": [
    {
     "name": "stdout",
     "output_type": "stream",
     "text": [
      "Jumlah Outlier Pada Column Landsize : 368 Data\n",
      "Jumlah Outlier Pada Column Distance : 411 Data\n",
      "Jumlah Outlier Pada Column Distance : 612 Data\n"
     ]
    }
   ],
   "source": [
    "#Outlier Pada Landsize, Distance dan Price\n",
    "\n",
    "print('Jumlah Outlier Pada Column Landsize :', len(outlier_landsize), 'Data')\n",
    "print('Jumlah Outlier Pada Column Distance :', len(outlier_distance), 'Data')\n",
    "print('Jumlah Outlier Pada Column Distance :', len(outlier_price), 'Data')"
   ]
  },
  {
   "cell_type": "markdown",
   "metadata": {},
   "source": [
    "<span style='color:Indianred'>**Visualisasi Outlier Dengan Boxplot**</span>"
   ]
  },
  {
   "cell_type": "markdown",
   "metadata": {},
   "source": [
    "<span style='color:DarkOrange'>**A. Landsize**</span>"
   ]
  },
  {
   "cell_type": "code",
   "execution_count": 15,
   "metadata": {
    "ExecuteTime": {
     "end_time": "2020-07-08T07:46:47.829080Z",
     "start_time": "2020-07-08T07:46:47.191936Z"
    }
   },
   "outputs": [
    {
     "data": {
      "image/png": "[encoded data removed]",
      "text/plain": [
       "<Figure size 1080x216 with 1 Axes>"
      ]
     },
     "metadata": {
      "needs_background": "light"
     },
     "output_type": "display_data"
    }
   ],
   "source": [
    "plt.subplots(figsize=(15,3))\n",
    "\n",
    "sns.boxplot(df['Landsize'])\n",
    "plt.title('Boxplot Landsize')\n",
    "plt.savefig('Boxplot Landsize.png')\n",
    "plt.show()"
   ]
  },
  {
   "cell_type": "markdown",
   "metadata": {},
   "source": [
    "Boxplot mennjukan bahwa Titik-Titik yang berada diluar BOX(IQR), merupakan data outlier. Posisi boxplot pada kiri menunjukan bahwasanya sebaran data berada pada kisaran nilai mendekati ke arah kiri / bernilai kecil atau sering dimaksud *Highly Positive Skewness*. Kemudian titik outlier pada paling kanan menunjukan bahwa nilai tersebut berada pada area **Ekstrim**\n",
    "\n",
    "Ketidak seragaman pada data membuat gambaran boxplot tidak sesuai yang diharapkan, dikarenakan perlu dilakukan adanya *Handling Outlier* pada data tersebut, sehingga gambaran data dapat menceritakan sebaran dan dispersi data.\n",
    "\n",
    "Atau Ingin mengnormalkan sample data yang ada"
   ]
  },
  {
   "cell_type": "markdown",
   "metadata": {},
   "source": [
    "<span style='color:DarkOrange'>**B. Distance**</span>"
   ]
  },
  {
   "cell_type": "code",
   "execution_count": 16,
   "metadata": {
    "ExecuteTime": {
     "end_time": "2020-07-08T07:46:48.167891Z",
     "start_time": "2020-07-08T07:46:47.832080Z"
    }
   },
   "outputs": [
    {
     "data": {
      "image/png": "[encoded data removed]",
      "text/plain": [
       "<Figure size 1080x216 with 1 Axes>"
      ]
     },
     "metadata": {
      "needs_background": "light"
     },
     "output_type": "display_data"
    }
   ],
   "source": [
    "plt.subplots(figsize=(15,3))\n",
    "\n",
    "sns.boxplot(df['Distance'])\n",
    "plt.title('Boxplot Distance')\n",
    "plt.savefig('Boxplot Distance.png')\n",
    "plt.show()"
   ]
  },
  {
   "cell_type": "code",
   "execution_count": 17,
   "metadata": {
    "ExecuteTime": {
     "end_time": "2020-07-08T07:46:48.234849Z",
     "start_time": "2020-07-08T07:46:48.170884Z"
    }
   },
   "outputs": [
    {
     "name": "stdout",
     "output_type": "stream",
     "text": [
      "23.35\n",
      "-4.250000000000002\n"
     ]
    }
   ],
   "source": [
    "print(batas_atas['Distance'])\n",
    "print(batas_bawah['Distance'])"
   ]
  },
  {
   "cell_type": "markdown",
   "metadata": {},
   "source": [
    "Boxplot mennjukan bahwa Titik-Titik yang berada diluar BOX(IQR), merupakan data outlier. Posisi boxplot pada kiri menunjukan bahwasanya sebaran data berada pada kisaran nilai mendekati ke arah kiri / bernilai kecil atau sering dimaksud *Highly Positive Skewness*. Kemudian titik outlier pada paling kanan menunjukan bahwa nilai tersebut berada pada area **Ekstrim**\n",
    "\n",
    "- IQR Landsize = 6.9\n",
    "\n",
    "- Nilai Maksimum Batas atas 23.35\n",
    "\n",
    "- Nilai Min Batas Bawah -4.25\n",
    "\n",
    "Nilai data berada > batas atas = Outlier\n",
    "\n",
    "Nilai data berada < batas bawah = Outlier\n",
    "\n",
    "Dengan Range Nilai 6.9 merupakan ekspresi dari 50% data\n",
    "\n",
    "Ketidak seragaman pada data membuat gambaran boxplot tidak sesuai yang diharapkan, dikarenakan perlu dilakukan adanya *Handling Outlier* pada data tersebut, sehingga gambaran data dapat menceritakan sebaran dan dispersi data. Atau Ingin mengnormalkan sample data yang ada"
   ]
  },
  {
   "cell_type": "markdown",
   "metadata": {
    "ExecuteTime": {
     "end_time": "2020-07-08T06:31:24.803253Z",
     "start_time": "2020-07-08T06:31:24.797260Z"
    }
   },
   "source": [
    "<span style='color:DarkOrange'>**C. Price**</span>"
   ]
  },
  {
   "cell_type": "code",
   "execution_count": 18,
   "metadata": {
    "ExecuteTime": {
     "end_time": "2020-07-08T07:46:48.518686Z",
     "start_time": "2020-07-08T07:46:48.241995Z"
    }
   },
   "outputs": [
    {
     "name": "stdout",
     "output_type": "stream",
     "text": [
      "2350000.0\n",
      "-370000.0\n"
     ]
    }
   ],
   "source": [
    "print(batas_atas['Price'])\n",
    "print(batas_bawah['Price'])"
   ]
  },
  {
   "cell_type": "code",
   "execution_count": 19,
   "metadata": {
    "ExecuteTime": {
     "end_time": "2020-07-08T07:46:49.535350Z",
     "start_time": "2020-07-08T07:46:48.525681Z"
    }
   },
   "outputs": [
    {
     "data": {
      "image/png": "[encoded data removed]",
      "text/plain": [
       "<Figure size 1080x216 with 1 Axes>"
      ]
     },
     "metadata": {
      "needs_background": "light"
     },
     "output_type": "display_data"
    }
   ],
   "source": [
    "plt.subplots(figsize=(15,3))\n",
    "\n",
    "sns.boxplot(df['Price'])\n",
    "plt.title('Boxplot Price')\n",
    "plt.savefig('Boxplot Price.png')\n",
    "plt.show()"
   ]
  },
  {
   "cell_type": "markdown",
   "metadata": {},
   "source": [
    "Boxplot mennjukan bahwa Titik-Titik yang berada diluar BOX(IQR), merupakan data outlier. Posisi boxplot pada kiri menunjukan bahwasanya sebaran data berada pada kisaran nilai mendekati ke arah kiri / bernilai kecil atau sering dimaksud *Highly Positive Skewness*. Kemudian titik outlier pada paling kanan menunjukan bahwa nilai tersebut berada pada area **Ekstrim**\n",
    "\n",
    "- IQR Price = 680000\n",
    "\n",
    "- Nilai Maksimum Batas atas 2350000\n",
    "\n",
    "- Nilai Min Batas Bawah -370000\n",
    "\n",
    "Nilai data berada > batas atas = Outlier\n",
    "Nilai data berada < batas bawah = Outlier\n",
    "\n",
    "Dengan Range Nilai 680000 merupakan ekspresi dari 50% data\n",
    "\n",
    "Ketidak seragaman pada data membuat gambaran boxplot tidak sesuai yang diharapkan, dikarenakan perlu dilakukan adanya *Handling Outlier* pada data tersebut, sehingga gambaran data dapat menceritakan sebaran dan dispersi data. Atau Ingin mengnormalkan sample data yang ada"
   ]
  },
  {
   "cell_type": "markdown",
   "metadata": {},
   "source": [
    "## 3. Tampilkan distribusi (sebaran data) dalam bentuk plot yang tepat, untuk feature/column `Landsize` & `YearBuilt`. Jelaskan insight apa yang Anda dapatkan di setiap plot tersebut!"
   ]
  },
  {
   "cell_type": "code",
   "execution_count": 20,
   "metadata": {
    "ExecuteTime": {
     "end_time": "2020-07-08T07:46:51.398711Z",
     "start_time": "2020-07-08T07:46:49.540125Z"
    }
   },
   "outputs": [
    {
     "data": {
      "image/png": "[encoded data removed]",
      "text/plain": [
       "<Figure size 864x720 with 1 Axes>"
      ]
     },
     "metadata": {
      "needs_background": "light"
     },
     "output_type": "display_data"
    }
   ],
   "source": [
    "plt.subplots(figsize=(12,10))\n",
    "\n",
    "sns.scatterplot(x=df['Landsize'], y=df['YearBuilt'])\n",
    "plt.title('Persebaran Landsize dengan Tahun Pembangunan')\n",
    "plt.savefig('Persebaran Landsize dengan Tahun Pembangunan.png')\n",
    "plt.show()"
   ]
  },
  {
   "cell_type": "markdown",
   "metadata": {},
   "source": [
    "Persebaran Data:\n",
    "\n",
    "- Dapat dilihat bahwa pada scatter plot tersebut, penyebaran data Landsize yang berkisar 0-5000 metres tidak menunjukan adanya perubahan dari tahun 1800 - 2000"
   ]
  },
  {
   "cell_type": "markdown",
   "metadata": {},
   "source": [
    "## 4. Tampilkan perkembangan rata-rata harga (price) rumah berdasarkan tahun pembangunan rumah (Year) menggunakan plot yang tepat! Jelaskan (insight) perkembangan rata-rata harga rumah dari plot yang Anda buat!"
   ]
  },
  {
   "cell_type": "code",
   "execution_count": 21,
   "metadata": {
    "ExecuteTime": {
     "end_time": "2020-07-08T07:46:51.427741Z",
     "start_time": "2020-07-08T07:46:51.404626Z"
    }
   },
   "outputs": [],
   "source": [
    "avgprice = df.groupby('YearBuilt')[['Price']].mean()\n",
    "avgprice.reset_index(inplace=True)"
   ]
  },
  {
   "cell_type": "code",
   "execution_count": 22,
   "metadata": {
    "ExecuteTime": {
     "end_time": "2020-07-08T07:46:51.644165Z",
     "start_time": "2020-07-08T07:46:51.432736Z"
    }
   },
   "outputs": [
    {
     "data": {
      "text/html": [
       "<div>\n",
       "<style scoped>\n",
       "    .dataframe tbody tr th:only-of-type {\n",
       "        vertical-align: middle;\n",
       "    }\n",
       "\n",
       "    .dataframe tbody tr th {\n",
       "        vertical-align: top;\n",
       "    }\n",
       "\n",
       "    .dataframe thead th {\n",
       "        text-align: right;\n",
       "    }\n",
       "</style>\n",
       "<table border=\"1\" class=\"dataframe\">\n",
       "  <thead>\n",
       "    <tr style=\"text-align: right;\">\n",
       "      <th></th>\n",
       "      <th>YearBuilt</th>\n",
       "      <th>Price</th>\n",
       "    </tr>\n",
       "  </thead>\n",
       "  <tbody>\n",
       "    <tr>\n",
       "      <th>0</th>\n",
       "      <td>1196.0</td>\n",
       "      <td>1.200000e+06</td>\n",
       "    </tr>\n",
       "    <tr>\n",
       "      <th>1</th>\n",
       "      <td>1830.0</td>\n",
       "      <td>8.550000e+05</td>\n",
       "    </tr>\n",
       "    <tr>\n",
       "      <th>2</th>\n",
       "      <td>1850.0</td>\n",
       "      <td>1.179500e+06</td>\n",
       "    </tr>\n",
       "    <tr>\n",
       "      <th>3</th>\n",
       "      <td>1854.0</td>\n",
       "      <td>3.310000e+06</td>\n",
       "    </tr>\n",
       "    <tr>\n",
       "      <th>4</th>\n",
       "      <td>1856.0</td>\n",
       "      <td>2.260000e+06</td>\n",
       "    </tr>\n",
       "    <tr>\n",
       "      <th>...</th>\n",
       "      <td>...</td>\n",
       "      <td>...</td>\n",
       "    </tr>\n",
       "    <tr>\n",
       "      <th>139</th>\n",
       "      <td>2014.0</td>\n",
       "      <td>9.219150e+05</td>\n",
       "    </tr>\n",
       "    <tr>\n",
       "      <th>140</th>\n",
       "      <td>2015.0</td>\n",
       "      <td>1.231485e+06</td>\n",
       "    </tr>\n",
       "    <tr>\n",
       "      <th>141</th>\n",
       "      <td>2016.0</td>\n",
       "      <td>1.523655e+06</td>\n",
       "    </tr>\n",
       "    <tr>\n",
       "      <th>142</th>\n",
       "      <td>2017.0</td>\n",
       "      <td>1.037972e+06</td>\n",
       "    </tr>\n",
       "    <tr>\n",
       "      <th>143</th>\n",
       "      <td>2018.0</td>\n",
       "      <td>1.310000e+06</td>\n",
       "    </tr>\n",
       "  </tbody>\n",
       "</table>\n",
       "<p>144 rows × 2 columns</p>\n",
       "</div>"
      ],
      "text/plain": [
       "     YearBuilt         Price\n",
       "0       1196.0  1.200000e+06\n",
       "1       1830.0  8.550000e+05\n",
       "2       1850.0  1.179500e+06\n",
       "3       1854.0  3.310000e+06\n",
       "4       1856.0  2.260000e+06\n",
       "..         ...           ...\n",
       "139     2014.0  9.219150e+05\n",
       "140     2015.0  1.231485e+06\n",
       "141     2016.0  1.523655e+06\n",
       "142     2017.0  1.037972e+06\n",
       "143     2018.0  1.310000e+06\n",
       "\n",
       "[144 rows x 2 columns]"
      ]
     },
     "execution_count": 22,
     "metadata": {},
     "output_type": "execute_result"
    }
   ],
   "source": [
    "avgprice"
   ]
  },
  {
   "cell_type": "code",
   "execution_count": 23,
   "metadata": {
    "ExecuteTime": {
     "end_time": "2020-07-08T07:46:52.519949Z",
     "start_time": "2020-07-08T07:46:51.648162Z"
    },
    "scrolled": true
   },
   "outputs": [
    {
     "data": {
      "image/png": "[encoded data removed]",
      "text/plain": [
       "<Figure size 864x720 with 1 Axes>"
      ]
     },
     "metadata": {
      "needs_background": "light"
     },
     "output_type": "display_data"
    }
   ],
   "source": [
    "plt.subplots(figsize=(12,10))\n",
    "\n",
    "sns.lineplot(x='YearBuilt', y='Price',data=avgprice)\n",
    "plt.title('Perkembangan Harga Rumah dengan Tahun Pembuatan')\n",
    "plt.savefig('Perkembangan Harga Rumah dengan Tahun Pembuatan.png')\n",
    "plt.show()"
   ]
  },
  {
   "cell_type": "markdown",
   "metadata": {},
   "source": [
    "DARI GRAFIK LINEPLOT TERSEBUT MENYATAKAN : \n",
    "\n",
    "- Perkembangan rata-rata rumah terhadap Tahun Pembuatan menunjukan \n",
    "\n",
    "     - Rumah yang di bangun pada kisaran tahun 1200 - 1800an mengalami penurunan Harga seiring bertambahnya Tahun pembuatan Properti.\n",
    "\n",
    "     - Kisaran tahun 1800 - 1900 terjadi perubahan trend yang menunjukan bahwa harga properti tersebut mengalami kenaikan seiring dengan naiknya Tahun Pembuatan.\n",
    "\n",
    "     - Namun trend kembali berubah seperti di awal harga rumah yang di bangun diatas tahun 1900 terus mengalami penurunan harga seiring bertambahnya tahun pembuatan\n",
    "     \n",
    "     - Dan Sekitar Tahun 1990an harga rumah kembali naik, dari kisaran harga skala 1 sampai ke 2"
   ]
  },
  {
   "cell_type": "code",
   "execution_count": null,
   "metadata": {},
   "outputs": [],
   "source": []
  },
  {
   "cell_type": "markdown",
   "metadata": {},
   "source": [
    "## 5. Di antara `Landsize`, `Distance`, & `Rooms`, manakah feature/column yang memiliki nilai korelasi tertinggi pada feature/column Price? Jelaskan metode korelasi apa yang Anda gunakan, serta apa insight untuk perusahaan setelah mengetahui nilai korelasi tersebut?"
   ]
  },
  {
   "cell_type": "code",
   "execution_count": 26,
   "metadata": {
    "ExecuteTime": {
     "end_time": "2020-07-08T07:47:41.603103Z",
     "start_time": "2020-07-08T07:47:41.245311Z"
    }
   },
   "outputs": [
    {
     "data": {
      "image/png": "[encoded data removed]",
      "text/plain": [
       "<Figure size 864x432 with 2 Axes>"
      ]
     },
     "metadata": {
      "needs_background": "light"
     },
     "output_type": "display_data"
    }
   ],
   "source": [
    "plt.figure(figsize=(12,6))\n",
    "sns.heatmap(df[['Landsize','Distance','Rooms']].corr('spearman'), annot = True)\n",
    "plt.title('Corellation Between Features :  Landsize, Distance & Rooms')\n",
    "plt.savefig('Corellation Between Features Landsize, Distance & Rooms.png')\n",
    "plt.show()"
   ]
  },
  {
   "cell_type": "markdown",
   "metadata": {},
   "source": [
    "Alasan penggunaan Metoda Spearman:\n",
    "\n",
    "- Data Tidak terdistribusi normal untuk ketiga features\n",
    "\n",
    "- Sifatnya Continous\n",
    "\n",
    "Range korelasi dari  0 sampai 1, semakin mendekati 1 semakin kuat pula korelasinya, Artinya saat mendakati 1 fitur yang dibandingan dengan fitur lain sama-sama memiliki peranan kuat untuk mempengaruhi nilai satu sama lain. Begitu pula sebaliknya\n",
    "\n",
    "\n",
    "Landsize vs Distance = 0.42\n",
    "\n",
    "Artinya tidak begitu kuat korelasinya"
   ]
  },
  {
   "cell_type": "code",
   "execution_count": 25,
   "metadata": {
    "ExecuteTime": {
     "end_time": "2020-07-08T07:46:53.073626Z",
     "start_time": "2020-07-08T07:46:53.036647Z"
    }
   },
   "outputs": [
    {
     "data": {
      "text/html": [
       "<div>\n",
       "<style scoped>\n",
       "    .dataframe tbody tr th:only-of-type {\n",
       "        vertical-align: middle;\n",
       "    }\n",
       "\n",
       "    .dataframe tbody tr th {\n",
       "        vertical-align: top;\n",
       "    }\n",
       "\n",
       "    .dataframe thead th {\n",
       "        text-align: right;\n",
       "    }\n",
       "</style>\n",
       "<table border=\"1\" class=\"dataframe\">\n",
       "  <thead>\n",
       "    <tr style=\"text-align: right;\">\n",
       "      <th></th>\n",
       "      <th>Landsize</th>\n",
       "      <th>Distance</th>\n",
       "      <th>Rooms</th>\n",
       "    </tr>\n",
       "  </thead>\n",
       "  <tbody>\n",
       "    <tr>\n",
       "      <th>Landsize</th>\n",
       "      <td>1.000000</td>\n",
       "      <td>0.417379</td>\n",
       "      <td>0.485742</td>\n",
       "    </tr>\n",
       "    <tr>\n",
       "      <th>Distance</th>\n",
       "      <td>0.417379</td>\n",
       "      <td>1.000000</td>\n",
       "      <td>0.351416</td>\n",
       "    </tr>\n",
       "    <tr>\n",
       "      <th>Rooms</th>\n",
       "      <td>0.485742</td>\n",
       "      <td>0.351416</td>\n",
       "      <td>1.000000</td>\n",
       "    </tr>\n",
       "  </tbody>\n",
       "</table>\n",
       "</div>"
      ],
      "text/plain": [
       "          Landsize  Distance     Rooms\n",
       "Landsize  1.000000  0.417379  0.485742\n",
       "Distance  0.417379  1.000000  0.351416\n",
       "Rooms     0.485742  0.351416  1.000000"
      ]
     },
     "execution_count": 25,
     "metadata": {},
     "output_type": "execute_result"
    }
   ],
   "source": [
    "df[['Landsize','Distance','Rooms']].corr('spearman')"
   ]
  },
  {
   "cell_type": "code",
   "execution_count": null,
   "metadata": {},
   "outputs": [],
   "source": []
  }
 ],
 "metadata": {
  "kernelspec": {
   "display_name": "Python 3.8.3 64-bit",
   "language": "python",
   "name": "python38364bit87a3a259d4d44193b3250e4d503192fd"
  },
  "language_info": {
   "codemirror_mode": {
    "name": "ipython",
    "version": 3
   },
   "file_extension": ".py",
   "mimetype": "text/x-python",
   "name": "python",
   "nbconvert_exporter": "python",
   "pygments_lexer": "ipython3",
   "version": "3.8.3"
  },
  "toc": {
   "base_numbering": 1,
   "nav_menu": {},
   "number_sections": false,
   "sideBar": true,
   "skip_h1_title": false,
   "title_cell": "Table of Contents",
   "title_sidebar": "Contents",
   "toc_cell": false,
   "toc_position": {},
   "toc_section_display": true,
   "toc_window_display": false
  }
 },
 "nbformat": 4,
 "nbformat_minor": 4
}
